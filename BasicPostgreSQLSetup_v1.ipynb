{
 "cells": [
  {
   "cell_type": "markdown",
   "metadata": {},
   "source": [
    "# postgreSQL installation for Mac\n",
    "---\n",
    "\n",
    "My OS: Catalina 10.15.6\n",
    "\n",
    "#### Basic Steps\n",
    "\n",
    "1) Download the app from the [postgreSQLsite](https://postgresapp.com/) and follow their 3 installation steps including their instructions for changing your PATH <br> \n",
    "\n",
    "Changing the PATH just means you're pointing the computer to look for your executable program in a specific directory (in this case we're telling it where to find postgreSQL)<br>\n",
    "\n",
    "2) Now if you open a new shell window you can start up postgreSQL using the command `psql`. Your shell will print:\n",
    "\n",
    "    psql (12.3)\n",
    "    Type \"help\" for help\n",
    "And commands should now start with `User=#` instead of the typical command line (but with your username instead of \"User\", in my case it looks like `Beth=#`)<br>\n",
    "\n",
    "3) Now that you are in psql you must use sql syntax. If you want to create a database from within psql you will can use the command `CREATE DATABASE testdb;` (which would create a database named testdb). \n",
    "\n",
    "**! important note:** sql commands must end in a semicolon `;`. If you type a command and you leave off the semicolon you will notice that your command line now looks like `User-#`. This means that psql is waiting for your `;` to finish the command. <br>\n",
    "\n",
    "4) If you `\\q` quit out of psql you can also create databases using the shell prompts. Creating a database in shell will look like:\n",
    "\n",
    "    createdb testdb\n",
    "\n",
    "5) To delete a database you can use `dropdb testdb` in shell or `DROP DATABASE testdb;` in psql <br>\n",
    "<br>\n",
    "6) You can enter psql and look at all of the databases you have created using `\\list` and check which database you are connected to using `\\c`\n",
    "<br>\n",
    "<br>\n",
    "Okay hopefully that information was a little helpful in getting started with absolute step ONE of setting up postgreSQL. All of this info was critical for me to understand what was happening in the instructions presented in the dev_setups_postgres.ipynb notebook, but from here on out you should be good to go with following those instructions!  \n",
    "\n",
    "I also found [this video](https://www.youtube.com/embed/rTvwWbZEfkE) helpful and also includes information on how to brew install postgreSQL as well as the postgreSQL documentation on [creating a database](https://www.postgresql.org/docs/9.5/manage-ag-createdb.html#:~:text=createdb%20does%20no%20magic.,with%20the%20current%20user%20name.)"
   ]
  },
  {
   "cell_type": "code",
   "execution_count": null,
   "metadata": {},
   "outputs": [],
   "source": []
  }
 ],
 "metadata": {
  "kernelspec": {
   "display_name": "insight",
   "language": "python",
   "name": "insight"
  },
  "language_info": {
   "codemirror_mode": {
    "name": "ipython",
    "version": 3
   },
   "file_extension": ".py",
   "mimetype": "text/x-python",
   "name": "python",
   "nbconvert_exporter": "python",
   "pygments_lexer": "ipython3",
   "version": "3.8.5"
  }
 },
 "nbformat": 4,
 "nbformat_minor": 4
}
